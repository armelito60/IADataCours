{
 "cells": [
  {
   "cell_type": "markdown",
   "id": "2f9462dd",
   "metadata": {},
   "source": [
    "# <center>Projet Deep Learning - Exercice de classification</center>"
   ]
  },
  {
   "cell_type": "code",
   "execution_count": 6,
   "id": "d8070138",
   "metadata": {
    "scrolled": true
   },
   "outputs": [
    {
     "ename": "ModuleNotFoundError",
     "evalue": "No module named 'cv2'",
     "output_type": "error",
     "traceback": [
      "\u001b[1;31m---------------------------------------------------------------------------\u001b[0m",
      "\u001b[1;31mModuleNotFoundError\u001b[0m                       Traceback (most recent call last)",
      "\u001b[1;32m~\\AppData\\Local\\Temp/ipykernel_18284/4789864.py\u001b[0m in \u001b[0;36m<module>\u001b[1;34m\u001b[0m\n\u001b[0;32m      3\u001b[0m \u001b[1;32mimport\u001b[0m \u001b[0mos\u001b[0m\u001b[1;33m\u001b[0m\u001b[1;33m\u001b[0m\u001b[0m\n\u001b[0;32m      4\u001b[0m \u001b[1;32mimport\u001b[0m \u001b[0mtensorflow\u001b[0m \u001b[1;32mas\u001b[0m \u001b[0mtf\u001b[0m\u001b[1;33m\u001b[0m\u001b[1;33m\u001b[0m\u001b[0m\n\u001b[1;32m----> 5\u001b[1;33m \u001b[1;32mimport\u001b[0m \u001b[0mcv2\u001b[0m\u001b[1;33m\u001b[0m\u001b[1;33m\u001b[0m\u001b[0m\n\u001b[0m\u001b[0;32m      6\u001b[0m \u001b[1;32mimport\u001b[0m \u001b[0mrandom\u001b[0m\u001b[1;33m\u001b[0m\u001b[1;33m\u001b[0m\u001b[0m\n\u001b[0;32m      7\u001b[0m \u001b[1;32mimport\u001b[0m \u001b[0mglob\u001b[0m\u001b[1;33m\u001b[0m\u001b[1;33m\u001b[0m\u001b[0m\n",
      "\u001b[1;31mModuleNotFoundError\u001b[0m: No module named 'cv2'"
     ]
    }
   ],
   "source": [
    "import pandas as pd\n",
    "import numpy as np\n",
    "import os\n",
    "import tensorflow as tf\n",
    "import cv2\n",
    "import random\n",
    "import glob\n",
    "\n",
    "from tensorflow import keras\n",
    "from tensorflow.keras import layers, Input\n",
    "from tensorflow.keras.models import Sequential, Model\n",
    "from keras.layers.core import Dense, Flatten\n",
    "from tensorflow.keras.layers import InputLayer\n",
    "from  matplotlib import pyplot as plt\n",
    "import matplotlib.image as mpimg\n",
    "%matplotlib inline"
   ]
  },
  {
   "cell_type": "markdown",
   "id": "37161f26",
   "metadata": {},
   "source": [
    "On va afficher 5 images random présentes dans le fichier."
   ]
  },
  {
   "cell_type": "code",
   "execution_count": null,
   "id": "72c0ee0d",
   "metadata": {},
   "outputs": [],
   "source": [
    "plt.figure(figsize=(20,20))\n",
    "img_folder=os.path.join(r'c:\\\\Users\\\\Armel\\\\Desktop\\\\Cours_ESIEA\\\\Github\\\\Deep_Learning\\\\nov2021_train')\n",
    "for i in range(5):\n",
    "    file = random.choice(os.listdir(img_folder))\n",
    "    image_path= os.path.join(img_folder, file)\n",
    "    img=mpimg.imread(image_path)\n",
    "    ax=plt.subplot(1,5,i+1)\n",
    "    ax.title.set_text(file)\n",
    "    plt.imshow(img)"
   ]
  },
  {
   "cell_type": "markdown",
   "id": "1bfcfb1b",
   "metadata": {},
   "source": [
    "##### Création des données d'image et des étiquettes à partir des images du dossier\n",
    "\n",
    "- Le dossier source est le paramètre d'entrée contenant les images des différentes classes.\n",
    "\n",
    "- Lire le fichier image du dossier et le convertir au bon format de couleur.\n",
    "\n",
    "- Redimensionnez l'image en fonction de la dimension d'entrée requise pour le modèle.\n",
    "\n",
    "- Convertir l'image en un tableau Numpy avec float32 comme type de données.\n",
    "\n",
    "- Normaliser le tableau d'images pour avoir des valeurs réduites entre 0 et 1 de 0 à 255 pour une distribution de données similaire, ce qui permet une convergence plus rapide."
   ]
  },
  {
   "cell_type": "code",
   "execution_count": null,
   "id": "c2609a75",
   "metadata": {},
   "outputs": [],
   "source": [
    "os.listdir(img_folder)"
   ]
  },
  {
   "cell_type": "code",
   "execution_count": null,
   "id": "714cebc0",
   "metadata": {},
   "outputs": [],
   "source": [
    "# Modification de la dimension des images \n",
    "IMG_WIDTH=200\n",
    "IMG_HEIGHT=200\n",
    "\n",
    "def create_dataset(img_folder):\n",
    "   \n",
    "    img_data_array=[]\n",
    "    class_name=[]\n",
    "    label_file = open('label_nov2021_train.txt', \"r\")\n",
    "    \n",
    "    for file in os.listdir(img_folder):\n",
    "        for labels in label_file:\n",
    "            image_path= os.path.join(img_folder, file)\n",
    "            image= cv2.imread(image_path, cv2.COLOR_BGR2RGB)\n",
    "            image=cv2.resize(image, (IMG_HEIGHT, IMG_WIDTH),interpolation = cv2.INTER_AREA)\n",
    "            image=np.array(image)\n",
    "            image = image.astype('float64')\n",
    "            image /= 255.0 \n",
    "            img_data_array.append(image)\n",
    "            class_name.append(labels)\n",
    "    return img_data_array, class_name\n",
    "    file.close()\n",
    "# extract the image array and class name\n",
    "img_data, class_name = create_dataset(img_folder)"
   ]
  },
  {
   "cell_type": "code",
   "execution_count": 1,
   "id": "3460c7d0",
   "metadata": {},
   "outputs": [
    {
     "name": "stdout",
     "output_type": "stream",
     "text": [
      "['/device:CPU:0']\n"
     ]
    }
   ],
   "source": [
    "from tensorflow.python.client import device_lib\n",
    "\n",
    "def get_available_devices():\n",
    "    local_device_protos = device_lib.list_local_devices()\n",
    "    return [x.name for x in local_device_protos]\n",
    "\n",
    "print(get_available_devices())"
   ]
  },
  {
   "cell_type": "code",
   "execution_count": null,
   "id": "293ccde8",
   "metadata": {},
   "outputs": [],
   "source": [
    "import tensorflow as tf\n",
    "from tensorflow.python.client import device_lib\n",
    "tf.config.list_physical_devices('GPU')"
   ]
  },
  {
   "cell_type": "code",
   "execution_count": null,
   "id": "7f25a4f8",
   "metadata": {},
   "outputs": [],
   "source": []
  }
 ],
 "metadata": {
  "kernelspec": {
   "display_name": "gpu2",
   "language": "python",
   "name": "gpu2"
  },
  "language_info": {
   "codemirror_mode": {
    "name": "ipython",
    "version": 3
   },
   "file_extension": ".py",
   "mimetype": "text/x-python",
   "name": "python",
   "nbconvert_exporter": "python",
   "pygments_lexer": "ipython3",
   "version": "3.8.12"
  }
 },
 "nbformat": 4,
 "nbformat_minor": 5
}
